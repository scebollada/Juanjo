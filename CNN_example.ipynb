{
  "nbformat": 4,
  "nbformat_minor": 0,
  "metadata": {
    "colab": {
      "name": "CNN_example.ipynb",
      "provenance": [],
      "collapsed_sections": [],
      "authorship_tag": "ABX9TyMrnVpGy9fEMA7pmgoi2Tko"
    },
    "kernelspec": {
      "name": "python3",
      "display_name": "Python 3"
    }
  },
  "cells": [
    {
      "cell_type": "code",
      "metadata": {
        "id": "VCVLZNUntkBS",
        "colab_type": "code",
        "colab": {}
      },
      "source": [
        "import numpy as np\n",
        "from keras.models import Sequential\n",
        "from keras.layers import Activation, Dense, Dropout\n",
        "from keras.layers import Conv2D, MaxPooling2D, Flatten\n",
        "from keras.utils import to_categorical, plot_model\n",
        "from keras.datasets import mnist\n"
      ],
      "execution_count": 0,
      "outputs": []
    },
    {
      "cell_type": "markdown",
      "metadata": {
        "id": "PgVaoPJ6uMwe",
        "colab_type": "text"
      },
      "source": [
        "load mnist dataset"
      ]
    },
    {
      "cell_type": "code",
      "metadata": {
        "id": "hj0Ct5xatnvX",
        "colab_type": "code",
        "colab": {}
      },
      "source": [
        "(x_train, y_train), (x_test, y_test) = mnist.load_data()"
      ],
      "execution_count": 0,
      "outputs": []
    },
    {
      "cell_type": "markdown",
      "metadata": {
        "id": "WeQuVcvkuYJO",
        "colab_type": "text"
      },
      "source": [
        "compute the number of labels"
      ]
    },
    {
      "cell_type": "code",
      "metadata": {
        "id": "ETBfSuSvuf6v",
        "colab_type": "code",
        "colab": {}
      },
      "source": [
        "num_labels = len(np.unique(y_train))"
      ],
      "execution_count": 0,
      "outputs": []
    },
    {
      "cell_type": "markdown",
      "metadata": {
        "id": "jdvXuAC6uyhw",
        "colab_type": "text"
      },
      "source": [
        "convert to one-hot vector"
      ]
    },
    {
      "cell_type": "code",
      "metadata": {
        "id": "nHDAIV8wu8kn",
        "colab_type": "code",
        "colab": {}
      },
      "source": [
        "y_train=to_categorical(y_train)\n",
        "y_test=to_categorical(y_test)"
      ],
      "execution_count": 0,
      "outputs": []
    },
    {
      "cell_type": "markdown",
      "metadata": {
        "id": "EHeBumDpvHLf",
        "colab_type": "text"
      },
      "source": [
        "input image dimensions"
      ]
    },
    {
      "cell_type": "code",
      "metadata": {
        "id": "p-8YFed-vJZv",
        "colab_type": "code",
        "colab": {}
      },
      "source": [
        "image_size=x_train.shape[1]"
      ],
      "execution_count": 0,
      "outputs": []
    },
    {
      "cell_type": "markdown",
      "metadata": {
        "id": "IGlThShCvUp3",
        "colab_type": "text"
      },
      "source": [
        "resize and normalize"
      ]
    },
    {
      "cell_type": "code",
      "metadata": {
        "id": "NSUNmIekvRcX",
        "colab_type": "code",
        "colab": {}
      },
      "source": [
        "x_train=np.reshape(x_train,[-1, image_size, image_size,1])\n",
        "x_test=np.reshape(x_test,[-1,image_size,image_size,1])\n",
        "x_train=x_train.astype('float32')/255\n",
        "x_test=x_test.astype('float32')/255"
      ],
      "execution_count": 0,
      "outputs": []
    },
    {
      "cell_type": "markdown",
      "metadata": {
        "id": "cpKh897xwBsP",
        "colab_type": "text"
      },
      "source": [
        "network parameters"
      ]
    },
    {
      "cell_type": "code",
      "metadata": {
        "id": "EPEiW22Hv94o",
        "colab_type": "code",
        "colab": {}
      },
      "source": [
        "input_shape=(image_size, image_size,1)\n",
        "batch_size=128\n",
        "kernel_size=3\n",
        "pool_size=2\n",
        "filters=64\n",
        "dropout=0.5"
      ],
      "execution_count": 0,
      "outputs": []
    },
    {
      "cell_type": "markdown",
      "metadata": {
        "id": "Mq7Nvv1QxF24",
        "colab_type": "text"
      },
      "source": [
        "model is a stack of CNN-ReLu-MaxPooling"
      ]
    },
    {
      "cell_type": "code",
      "metadata": {
        "id": "JVqUxgKIxLto",
        "colab_type": "code",
        "colab": {
          "base_uri": "https://localhost:8080/",
          "height": 184
        },
        "outputId": "883c524b-0a3f-414e-cde3-8c441f06f6a7"
      },
      "source": [
        "model=Sequential()\n",
        "model.add(Conv2D(filters=filters,\n",
        "                 kernel_size=kernel_size,\n",
        "                 activation='relu',\n",
        "                 input_shape=input_shape))\n",
        "model.add(MaxPooling2D(pool_size))\n",
        "model.add(Conv2D(filters=filters,\n",
        "                 kernel_size=kernel_size,\n",
        "                 activation='relu'))\n",
        "model.add(Flatten())"
      ],
      "execution_count": 10,
      "outputs": [
        {
          "output_type": "stream",
          "text": [
            "WARNING:tensorflow:From /usr/local/lib/python3.6/dist-packages/keras/backend/tensorflow_backend.py:66: The name tf.get_default_graph is deprecated. Please use tf.compat.v1.get_default_graph instead.\n",
            "\n",
            "WARNING:tensorflow:From /usr/local/lib/python3.6/dist-packages/keras/backend/tensorflow_backend.py:541: The name tf.placeholder is deprecated. Please use tf.compat.v1.placeholder instead.\n",
            "\n",
            "WARNING:tensorflow:From /usr/local/lib/python3.6/dist-packages/keras/backend/tensorflow_backend.py:4432: The name tf.random_uniform is deprecated. Please use tf.random.uniform instead.\n",
            "\n",
            "WARNING:tensorflow:From /usr/local/lib/python3.6/dist-packages/keras/backend/tensorflow_backend.py:4267: The name tf.nn.max_pool is deprecated. Please use tf.nn.max_pool2d instead.\n",
            "\n"
          ],
          "name": "stdout"
        }
      ]
    },
    {
      "cell_type": "markdown",
      "metadata": {
        "id": "BYh8oHndyH2o",
        "colab_type": "text"
      },
      "source": [
        "dropout added as regularizer"
      ]
    },
    {
      "cell_type": "code",
      "metadata": {
        "id": "mGon9n65yebw",
        "colab_type": "code",
        "colab": {
          "base_uri": "https://localhost:8080/",
          "height": 129
        },
        "outputId": "a8d49923-8082-4220-d639-b46ecc15be33"
      },
      "source": [
        "model.add(Dropout(dropout))"
      ],
      "execution_count": 11,
      "outputs": [
        {
          "output_type": "stream",
          "text": [
            "WARNING:tensorflow:From /usr/local/lib/python3.6/dist-packages/keras/backend/tensorflow_backend.py:148: The name tf.placeholder_with_default is deprecated. Please use tf.compat.v1.placeholder_with_default instead.\n",
            "\n",
            "WARNING:tensorflow:From /usr/local/lib/python3.6/dist-packages/keras/backend/tensorflow_backend.py:3733: calling dropout (from tensorflow.python.ops.nn_ops) with keep_prob is deprecated and will be removed in a future version.\n",
            "Instructions for updating:\n",
            "Please use `rate` instead of `keep_prob`. Rate should be set to `rate = 1 - keep_prob`.\n"
          ],
          "name": "stdout"
        }
      ]
    },
    {
      "cell_type": "markdown",
      "metadata": {
        "id": "b8mKpOAxyX3H",
        "colab_type": "text"
      },
      "source": [
        "output layer is 10-dim one-hot vector"
      ]
    },
    {
      "cell_type": "code",
      "metadata": {
        "id": "rMhY5vBoybtp",
        "colab_type": "code",
        "colab": {
          "base_uri": "https://localhost:8080/",
          "height": 1000
        },
        "outputId": "f230c41b-d76e-49c3-ddfc-5f67d2121431"
      },
      "source": [
        "model.add(Dense(num_labels))\n",
        "model.add(Activation('softmax'))\n",
        "model.summary()\n",
        "plot_model(model, to_file='cnn-mnist.png', show_shapes=True)\n"
      ],
      "execution_count": 12,
      "outputs": [
        {
          "output_type": "stream",
          "text": [
            "Model: \"sequential_1\"\n",
            "_________________________________________________________________\n",
            "Layer (type)                 Output Shape              Param #   \n",
            "=================================================================\n",
            "conv2d_1 (Conv2D)            (None, 26, 26, 64)        640       \n",
            "_________________________________________________________________\n",
            "max_pooling2d_1 (MaxPooling2 (None, 13, 13, 64)        0         \n",
            "_________________________________________________________________\n",
            "conv2d_2 (Conv2D)            (None, 11, 11, 64)        36928     \n",
            "_________________________________________________________________\n",
            "flatten_1 (Flatten)          (None, 7744)              0         \n",
            "_________________________________________________________________\n",
            "dropout_1 (Dropout)          (None, 7744)              0         \n",
            "_________________________________________________________________\n",
            "dense_1 (Dense)              (None, 10)                77450     \n",
            "_________________________________________________________________\n",
            "activation_1 (Activation)    (None, 10)                0         \n",
            "=================================================================\n",
            "Total params: 115,018\n",
            "Trainable params: 115,018\n",
            "Non-trainable params: 0\n",
            "_________________________________________________________________\n"
          ],
          "name": "stdout"
        },
        {
          "output_type": "execute_result",
          "data": {
            "image/png": "[encoded data removed]",
            "text/plain": [
              "<IPython.core.display.Image object>"
            ]
          },
          "metadata": {
            "tags": []
          },
          "execution_count": 12
        }
      ]
    },
    {
      "cell_type": "markdown",
      "metadata": {
        "id": "eJQV1z_Dy3nh",
        "colab_type": "text"
      },
      "source": [
        "loss function for one-hot vector\n",
        "use of adam optimizer\n",
        "accuracy is good metric for classification tasks"
      ]
    },
    {
      "cell_type": "code",
      "metadata": {
        "id": "HfZFKrr9zR8p",
        "colab_type": "code",
        "colab": {
          "base_uri": "https://localhost:8080/",
          "height": 110
        },
        "outputId": "4f686876-1644-478d-f119-46ee614ce2b0"
      },
      "source": [
        "model.compile(loss='categorical_crossentropy',\n",
        "              optimizer='adam',\n",
        "              metrics=['accuracy'])"
      ],
      "execution_count": 13,
      "outputs": [
        {
          "output_type": "stream",
          "text": [
            "WARNING:tensorflow:From /usr/local/lib/python3.6/dist-packages/keras/optimizers.py:793: The name tf.train.Optimizer is deprecated. Please use tf.compat.v1.train.Optimizer instead.\n",
            "\n",
            "WARNING:tensorflow:From /usr/local/lib/python3.6/dist-packages/keras/backend/tensorflow_backend.py:3576: The name tf.log is deprecated. Please use tf.math.log instead.\n",
            "\n"
          ],
          "name": "stdout"
        }
      ]
    },
    {
      "cell_type": "markdown",
      "metadata": {
        "id": "5bUyhrlZzj5R",
        "colab_type": "text"
      },
      "source": [
        "train the network"
      ]
    },
    {
      "cell_type": "code",
      "metadata": {
        "id": "U_VR9fDSzlnq",
        "colab_type": "code",
        "colab": {
          "base_uri": "https://localhost:8080/",
          "height": 772
        },
        "outputId": "243b4f7e-9e63-4556-801f-cb96198cd7d5"
      },
      "source": [
        "model.fit(x_train, y_train, epochs=10, batch_size=batch_size)"
      ],
      "execution_count": 14,
      "outputs": [
        {
          "output_type": "stream",
          "text": [
            "WARNING:tensorflow:From /usr/local/lib/python3.6/dist-packages/tensorflow_core/python/ops/math_grad.py:1424: where (from tensorflow.python.ops.array_ops) is deprecated and will be removed in a future version.\n",
            "Instructions for updating:\n",
            "Use tf.where in 2.0, which has the same broadcast rule as np.where\n",
            "WARNING:tensorflow:From /usr/local/lib/python3.6/dist-packages/keras/backend/tensorflow_backend.py:1033: The name tf.assign_add is deprecated. Please use tf.compat.v1.assign_add instead.\n",
            "\n",
            "WARNING:tensorflow:From /usr/local/lib/python3.6/dist-packages/keras/backend/tensorflow_backend.py:1020: The name tf.assign is deprecated. Please use tf.compat.v1.assign instead.\n",
            "\n",
            "WARNING:tensorflow:From /usr/local/lib/python3.6/dist-packages/keras/backend/tensorflow_backend.py:3005: The name tf.Session is deprecated. Please use tf.compat.v1.Session instead.\n",
            "\n",
            "Epoch 1/10\n",
            "WARNING:tensorflow:From /usr/local/lib/python3.6/dist-packages/keras/backend/tensorflow_backend.py:190: The name tf.get_default_session is deprecated. Please use tf.compat.v1.get_default_session instead.\n",
            "\n",
            "WARNING:tensorflow:From /usr/local/lib/python3.6/dist-packages/keras/backend/tensorflow_backend.py:197: The name tf.ConfigProto is deprecated. Please use tf.compat.v1.ConfigProto instead.\n",
            "\n",
            "WARNING:tensorflow:From /usr/local/lib/python3.6/dist-packages/keras/backend/tensorflow_backend.py:207: The name tf.global_variables is deprecated. Please use tf.compat.v1.global_variables instead.\n",
            "\n",
            "WARNING:tensorflow:From /usr/local/lib/python3.6/dist-packages/keras/backend/tensorflow_backend.py:216: The name tf.is_variable_initialized is deprecated. Please use tf.compat.v1.is_variable_initialized instead.\n",
            "\n",
            "WARNING:tensorflow:From /usr/local/lib/python3.6/dist-packages/keras/backend/tensorflow_backend.py:223: The name tf.variables_initializer is deprecated. Please use tf.compat.v1.variables_initializer instead.\n",
            "\n",
            "60000/60000 [==============================] - 73s 1ms/step - loss: 0.2342 - acc: 0.9315\n",
            "Epoch 2/10\n",
            "60000/60000 [==============================] - 73s 1ms/step - loss: 0.0736 - acc: 0.9778\n",
            "Epoch 3/10\n",
            "60000/60000 [==============================] - 73s 1ms/step - loss: 0.0544 - acc: 0.9838\n",
            "Epoch 4/10\n",
            "60000/60000 [==============================] - 73s 1ms/step - loss: 0.0449 - acc: 0.9863\n",
            "Epoch 5/10\n",
            "60000/60000 [==============================] - 73s 1ms/step - loss: 0.0379 - acc: 0.9883\n",
            "Epoch 6/10\n",
            "60000/60000 [==============================] - 73s 1ms/step - loss: 0.0350 - acc: 0.9888\n",
            "Epoch 7/10\n",
            "60000/60000 [==============================] - 74s 1ms/step - loss: 0.0305 - acc: 0.9902\n",
            "Epoch 8/10\n",
            "60000/60000 [==============================] - 74s 1ms/step - loss: 0.0280 - acc: 0.9909\n",
            "Epoch 9/10\n",
            "60000/60000 [==============================] - 74s 1ms/step - loss: 0.0247 - acc: 0.9922\n",
            "Epoch 10/10\n",
            "60000/60000 [==============================] - 73s 1ms/step - loss: 0.0209 - acc: 0.9930\n"
          ],
          "name": "stdout"
        },
        {
          "output_type": "execute_result",
          "data": {
            "text/plain": [
              "<keras.callbacks.History at 0x7f17f39a7588>"
            ]
          },
          "metadata": {
            "tags": []
          },
          "execution_count": 14
        }
      ]
    },
    {
      "cell_type": "code",
      "metadata": {
        "id": "OVNU-_L3zs8Y",
        "colab_type": "code",
        "colab": {
          "base_uri": "https://localhost:8080/",
          "height": 72
        },
        "outputId": "4619c655-e33b-4024-bef9-3625ce4ae15d"
      },
      "source": [
        "loss, acc=model.evaluate(x_test, y_test, batch_size=batch_size)\n",
        "print(\"\\nTest accuracy: %.1f%%\" % (100.0 * acc))"
      ],
      "execution_count": 15,
      "outputs": [
        {
          "output_type": "stream",
          "text": [
            "10000/10000 [==============================] - 3s 322us/step\n",
            "\n",
            "Test accuracy: 99.2%\n"
          ],
          "name": "stdout"
        }
      ]
    }
  ]
}